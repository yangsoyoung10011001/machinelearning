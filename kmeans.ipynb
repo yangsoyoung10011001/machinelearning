{
  "nbformat": 4,
  "nbformat_minor": 0,
  "metadata": {
    "colab": {
      "provenance": [],
      "authorship_tag": "ABX9TyMBKaEzBH2LuZcGzoJLJHr3",
      "include_colab_link": true
    },
    "kernelspec": {
      "name": "python3",
      "display_name": "Python 3"
    },
    "language_info": {
      "name": "python"
    }
  },
  "cells": [
    {
      "cell_type": "markdown",
      "metadata": {
        "id": "view-in-github",
        "colab_type": "text"
      },
      "source": [
        "<a href=\"https://colab.research.google.com/github/yangsoyoung10011001/machinelearning/blob/main/kmeans.ipynb\" target=\"_parent\"><img src=\"https://colab.research.google.com/assets/colab-badge.svg\" alt=\"Open In Colab\"/></a>"
      ]
    },
    {
      "cell_type": "code",
      "metadata": {
        "colab": {
          "base_uri": "https://localhost:8080/",
          "height": 156
        },
        "id": "OiCIN_PWGgqL",
        "outputId": "44b01e8e-274f-4fb0-be2c-8f38b930b613"
      },
      "source": [
        "from sklearn.preprocessing import scale\n",
        "from sklearn.datasets import load_iris\n",
        "from sklearn.cluster import KMeans\n",
        "\n",
        "from sklearn.metrics import silhouette_samples, silhouette_score\n",
        "import matplotlib.pyplot as plt\n",
        "import numpy as np\n",
        "import pandas as pd\n",
        "\n",
        "%matplotlib inline\n",
        "\n",
        "iris = load_iris()\n",
        "\n",
        "feature_names=['sepal_length','sepal_width', 'petal_length', 'petal_width']\n",
        "irisDF=pd.DataFrame(data=iris.data, columns=feature_names)\n",
        "kmeans = KMeans(n_clusters=4, random_state=42).fit(irisDF)\n",
        "irisDF['cluster']=kmeans.labels_\n",
        "\n",
        "score_samples = silhouette_samples(iris.data, irisDF['cluster'])\n",
        "\n",
        "irisDF['silhouette_coeff']=score_samples\n",
        "average_score = silhouette_score(iris.data, irisDF['cluster'])\n",
        "irisDF.head(4)\n",
        "irisDF.groupby('cluster')['silhouette_coeff'].mean()\n",
        "\n",
        "silhouette_avg.append(silhouette_score(irisDF,cluster_labels))\n",
        "plt.plot(range_n_clusters,silhouette_avg,'petal_length')\n",
        "plt.xlabel('Values of K')\n",
        "plt.ylabel('silhouette sccore')\n",
        "plt.title('Silhoutte analysis For Optimal k')\n",
        "plt.show()\n",
        "\n",
        "\n",
        "\n",
        "# visualize_silhouette([2,3,4,5,6],X_features)\n",
        "\n",
        "# from sklearn.datasets import make_blobs\n",
        "# range_n_clusters=[2,3,4,5,6]\n",
        "# silhouette_avg = []\n",
        "# for num_clusters in range_n_clusters:\n",
        "\n",
        "#   kmeans =KMeans(n_clusters=numclusters)\n",
        "#   kmeans.fit(data_frame)\n",
        "#   cluster_labels = kmeanslables_\n",
        "\n",
        "#   silhouette_avg.append(silhoutte_score(data_frame, cluster_lables))plt.plot(range_n_clusters,sillhouette_ave,'bx-')\n",
        "# plt.xlabel()"
      ],
      "execution_count": null,
      "outputs": [
        {
          "output_type": "error",
          "ename": "SyntaxError",
          "evalue": "ignored",
          "traceback": [
            "\u001b[0;36m  File \u001b[0;32m\"<ipython-input-3-4d7b79812041>\"\u001b[0;36m, line \u001b[0;32m26\u001b[0m\n\u001b[0;31m    silhouette_avg.append(silhouette_score(irisDF,cluster_labels))plt.plot(range_n_clusters,silhouette_avg,'petal_length')\u001b[0m\n\u001b[0m                                                                    ^\u001b[0m\n\u001b[0;31mSyntaxError\u001b[0m\u001b[0;31m:\u001b[0m invalid syntax\n"
          ]
        }
      ]
    }
  ]
}